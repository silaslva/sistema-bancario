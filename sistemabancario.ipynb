{
 "cells": [
  {
   "cell_type": "code",
   "metadata": {
    "ExecuteTime": {
     "end_time": "2024-06-08T14:17:06.809131Z",
     "start_time": "2024-06-08T14:17:06.797845Z"
    }
   },
   "source": [
    "def exibir_menu():\n",
    "    menu = \"\"\"\n",
    "    [1] Depositar\n",
    "    [2] Sacar\n",
    "    [3] Extrato\n",
    "    [4] Criar Usuário\n",
    "    [5] Criar Conta\n",
    "    [6] Listar Contas\n",
    "    [0] Sair\n",
    "\n",
    "    => \"\"\"\n",
    "    return input(menu)"
   ],
   "outputs": [],
   "execution_count": 1
  },
  {
   "cell_type": "code",
   "metadata": {
    "ExecuteTime": {
     "end_time": "2024-06-08T14:17:06.830377Z",
     "start_time": "2024-06-08T14:17:06.821104Z"
    }
   },
   "source": [
    "def depositar(saldo, extrato):\n",
    "    valor = float(input(\"Informe o valor do depósito: \"))\n",
    "    if valor > 0:\n",
    "        saldo += valor\n",
    "        extrato += f\"Depósito: R$ {valor:.2f}\\n\"\n",
    "        print(f\"Depósito de R$ {valor:.2f} realizado com sucesso.\")\n",
    "    else:\n",
    "        print(\"Operação falhou! O valor informado é inválido.\")\n",
    "    return saldo, extrato"
   ],
   "outputs": [],
   "execution_count": 2
  },
  {
   "cell_type": "code",
   "metadata": {
    "ExecuteTime": {
     "end_time": "2024-06-08T14:17:06.873322Z",
     "start_time": "2024-06-08T14:17:06.862300Z"
    }
   },
   "source": [
    "def sacar(saldo, extrato, numero_saques, LIMITE_SAQUES, limite):\n",
    "    valor2 = float(input(\"Informe o valor do saque: \"))\n",
    "    excedeu_saldo = valor2 > saldo\n",
    "    excedeu_limite = valor2 > limite\n",
    "    excedeu_saques = numero_saques >= LIMITE_SAQUES\n",
    "\n",
    "    if excedeu_saldo:\n",
    "        print(\"Operação falhou! Você não tem saldo suficiente.\")\n",
    "    elif excedeu_limite:\n",
    "        print(\"Operação falhou! O valor do saque excede o limite.\")\n",
    "    elif excedeu_saques:\n",
    "        print(\"Operação falhou! Número máximo de saques excedido.\")\n",
    "    elif valor2 > 0:\n",
    "        saldo -= valor2\n",
    "        extrato += f\"Saque: R$ {valor2:.2f}\\n\"\n",
    "        numero_saques += 1\n",
    "        print(f\"Saque de R$ {valor2:.2f} realizado com sucesso.\")\n",
    "    else:\n",
    "        print(\"Operação falhou! O valor informado é inválido.\")\n",
    "    \n",
    "    return saldo, extrato, numero_saques\n"
   ],
   "outputs": [],
   "execution_count": 3
  },
  {
   "cell_type": "code",
   "metadata": {
    "ExecuteTime": {
     "end_time": "2024-06-08T14:17:06.909939Z",
     "start_time": "2024-06-08T14:17:06.903251Z"
    }
   },
   "source": [
    "def exibir_extrato(saldo, extrato):\n",
    "    print(\"\\n================ EXTRATO ================\")\n",
    "    print(\"Não foram realizadas movimentações.\" if not extrato else extrato)\n",
    "    print(f\"\\nSaldo: R$ {saldo:.2f}\")\n",
    "    print(\"==========================================\")"
   ],
   "outputs": [],
   "execution_count": 4
  },
  {
   "cell_type": "code",
   "metadata": {
    "ExecuteTime": {
     "end_time": "2024-06-08T14:17:06.938614Z",
     "start_time": "2024-06-08T14:17:06.929893Z"
    }
   },
   "source": [
    "def filtrar_usuario(cpf,usuarios):\n",
    "    usuarios_filtrados = [usuario for usuario in usuarios if usuario[\"cpf\"] == cpf ]\n",
    "    return usuarios_filtrados[0] if usuarios_filtrados else None"
   ],
   "outputs": [],
   "execution_count": 5
  },
  {
   "cell_type": "code",
   "metadata": {
    "ExecuteTime": {
     "end_time": "2024-06-08T14:17:06.978267Z",
     "start_time": "2024-06-08T14:17:06.970535Z"
    }
   },
   "source": [
    "def criar_usuario(usuarios):\n",
    "    cpf = input(\" Informe o CPF (apenas os numeros): \")\n",
    "    usuario = filtrar_usuario(cpf, usuarios)\n",
    "\n",
    "    if usuario:\n",
    "        print(\"\\n Já existe usuário com esse CPF!\")\n",
    "        return\n",
    "    \n",
    "    nome = input(\"Informe o nome completo: \")\n",
    "    data_nascimento = input(\"Informe a data de nascimento (dd-mm-aaaa): \")\n",
    "    endereco = input(\"Informe seu endereço completo: \")\n",
    "\n",
    "    usuarios.append({\"nome\": nome, \"data_nascimento\":data_nascimento, \"cpf\": cpf, \"endereco\": endereco})\n",
    "    print(\"Usuario Criado com sucesso\")"
   ],
   "outputs": [],
   "execution_count": 6
  },
  {
   "cell_type": "code",
   "metadata": {
    "ExecuteTime": {
     "end_time": "2024-06-08T14:17:07.030508Z",
     "start_time": "2024-06-08T14:17:07.019167Z"
    }
   },
   "source": [
    "def criar_conta(agencia, numero_conta, usuarios):\n",
    "    cpf = input(\"Informe o CPF do usuario: \")\n",
    "    usuario = filtrar_usuario(cpf, usuarios)\n",
    "\n",
    "    if usuario:\n",
    "        print(\"\\n Conta criada com sucesso!\")\n",
    "        return {\"agencia\": agencia, \"numero_conta\": numero_conta, \"usuario\":usuario}\n",
    "    print(\"\\n Usuário não encontrado, retornando ao menu principal\")"
   ],
   "outputs": [],
   "execution_count": 7
  },
  {
   "cell_type": "code",
   "metadata": {
    "ExecuteTime": {
     "end_time": "2024-06-08T14:17:07.085128Z",
     "start_time": "2024-06-08T14:17:07.066411Z"
    }
   },
   "source": [
    "def listar_contas(contas):\n",
    "    for conta in contas:\n",
    "        linha = f\"\"\"\\\n",
    "            Agencia:\\t{conta['agencia']}\n",
    "            C/C: \\t\\t{conta['numero_conta']}\n",
    "            Titular:\\t {conta['usuario']['nome']}\n",
    "        \"\"\"\n",
    "        print(\"=\"*100)\n",
    "        print(linha)"
   ],
   "outputs": [],
   "execution_count": 8
  },
  {
   "cell_type": "code",
   "metadata": {
    "ExecuteTime": {
     "end_time": "2024-06-08T14:17:30.874470Z",
     "start_time": "2024-06-08T14:17:07.089131Z"
    }
   },
   "source": [
    "def main():\n",
    "    saldo = 0\n",
    "    limite = 500\n",
    "    extrato = \"\"\n",
    "    numero_saques = 0\n",
    "    LIMITE_SAQUES = 3\n",
    "    usuarios = []\n",
    "    contas = []\n",
    "    contador_contas = 1\n",
    "    AGENCIA = \"0001\"\n",
    "\n",
    "\n",
    "    while True:\n",
    "        opcao = exibir_menu()\n",
    "\n",
    "        if opcao == \"1\":\n",
    "            saldo, extrato = depositar(saldo, extrato)\n",
    "        elif opcao == \"2\":\n",
    "            saldo, extrato, numero_saques = sacar(saldo, extrato, numero_saques, LIMITE_SAQUES, limite)\n",
    "        elif opcao == \"3\":\n",
    "            exibir_extrato(saldo, extrato)\n",
    "        elif opcao == \"4\":\n",
    "            criar_usuario(usuarios)\n",
    "        elif opcao == \"5\":\n",
    "            conta = criar_conta(AGENCIA, contador_contas, usuarios)\n",
    "            if conta:\n",
    "                contas.append(conta)\n",
    "                contador_contas += 1\n",
    "        elif opcao == \"6\":\n",
    "            listar_contas(contas)\n",
    "        elif opcao == \"0\":\n",
    "            break\n",
    "        else:\n",
    "            print(\"Operação inválida, por favor selecione novamente a operação desejada.\")\n",
    "\n",
    "if __name__ == \"__main__\":\n",
    "    main()"
   ],
   "outputs": [
    {
     "name": "stdout",
     "output_type": "stream",
     "text": [
      "Depósito de R$ 200.00 realizado com sucesso.\n",
      "Saque de R$ 50.00 realizado com sucesso.\n",
      "\n",
      "================ EXTRATO ================\n",
      "Depósito: R$ 200.00\n",
      "Saque: R$ 50.00\n",
      "\n",
      "\n",
      "Saldo: R$ 150.00\n",
      "==========================================\n",
      "Operação inválida, por favor selecione novamente a operação desejada.\n"
     ]
    }
   ],
   "execution_count": 9
  }
 ],
 "metadata": {
  "kernelspec": {
   "display_name": "Python 3",
   "language": "python",
   "name": "python3"
  },
  "language_info": {
   "codemirror_mode": {
    "name": "ipython",
    "version": 3
   },
   "file_extension": ".py",
   "mimetype": "text/x-python",
   "name": "python",
   "nbconvert_exporter": "python",
   "pygments_lexer": "ipython3",
   "version": "3.12.3"
  }
 },
 "nbformat": 4,
 "nbformat_minor": 2
}
