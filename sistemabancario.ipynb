{
 "cells": [
  {
   "cell_type": "code",
   "execution_count": 94,
   "metadata": {},
   "outputs": [],
   "source": [
    "def exibir_menu():\n",
    "    menu = \"\"\"\n",
    "    [1] Depositar\n",
    "    [2] Sacar\n",
    "    [3] Extrato\n",
    "    [4] Criar Usuário\n",
    "    [5] Criar Conta\n",
    "    [6] Listar Contas\n",
    "    [0] Sair\n",
    "\n",
    "    => \"\"\"\n",
    "    return input(menu)"
   ]
  },
  {
   "cell_type": "code",
   "execution_count": 95,
   "metadata": {},
   "outputs": [],
   "source": [
    "def depositar(saldo, extrato):\n",
    "    valor = float(input(\"Informe o valor do depósito: \"))\n",
    "    if valor > 0:\n",
    "        saldo += valor\n",
    "        extrato += f\"Depósito: R$ {valor:.2f}\\n\"\n",
    "        print(f\"Depósito de R$ {valor:.2f} realizado com sucesso.\")\n",
    "    else:\n",
    "        print(\"Operação falhou! O valor informado é inválido.\")\n",
    "    return saldo, extrato"
   ]
  },
  {
   "cell_type": "code",
   "execution_count": 96,
   "metadata": {},
   "outputs": [],
   "source": [
    "def sacar(saldo, extrato, numero_saques, LIMITE_SAQUES, limite):\n",
    "    valor2 = float(input(\"Informe o valor do saque: \"))\n",
    "    excedeu_saldo = valor2 > saldo\n",
    "    excedeu_limite = valor2 > limite\n",
    "    excedeu_saques = numero_saques >= LIMITE_SAQUES\n",
    "\n",
    "    if excedeu_saldo:\n",
    "        print(\"Operação falhou! Você não tem saldo suficiente.\")\n",
    "    elif excedeu_limite:\n",
    "        print(\"Operação falhou! O valor do saque excede o limite.\")\n",
    "    elif excedeu_saques:\n",
    "        print(\"Operação falhou! Número máximo de saques excedido.\")\n",
    "    elif valor2 > 0:\n",
    "        saldo -= valor2\n",
    "        extrato += f\"Saque: R$ {valor2:.2f}\\n\"\n",
    "        numero_saques += 1\n",
    "        print(f\"Saque de R$ {valor2:.2f} realizado com sucesso.\")\n",
    "    else:\n",
    "        print(\"Operação falhou! O valor informado é inválido.\")\n",
    "    \n",
    "    return saldo, extrato, numero_saques\n"
   ]
  },
  {
   "cell_type": "code",
   "execution_count": 97,
   "metadata": {},
   "outputs": [],
   "source": [
    "def exibir_extrato(saldo, extrato):\n",
    "    print(\"\\n================ EXTRATO ================\")\n",
    "    print(\"Não foram realizadas movimentações.\" if not extrato else extrato)\n",
    "    print(f\"\\nSaldo: R$ {saldo:.2f}\")\n",
    "    print(\"==========================================\")"
   ]
  },
  {
   "cell_type": "code",
   "execution_count": 98,
   "metadata": {},
   "outputs": [],
   "source": [
    "def filtrar_usuario(cpf,usuarios):\n",
    "    usuarios_filtrados = [usuario for usuario in usuarios if usuario[\"cpf\"] == cpf ]\n",
    "    return usuarios_filtrados[0] if usuarios_filtrados else None"
   ]
  },
  {
   "cell_type": "code",
   "execution_count": 99,
   "metadata": {},
   "outputs": [],
   "source": [
    "def criar_usuario(usuarios):\n",
    "    cpf = input(\" Informe o CPF (apenas os numeros): \")\n",
    "    usuario = filtrar_usuario(cpf, usuarios)\n",
    "\n",
    "    if usuario:\n",
    "        print(\"\\n Já existe usuário com esse CPF!\")\n",
    "        return\n",
    "    \n",
    "    nome = input(\"Informe o nome completo: \")\n",
    "    data_nascimento = input(\"Informe a data de nascimento (dd-mm-aaaa): \")\n",
    "    endereco = input(\"Informe seu endereço completo: \")\n",
    "\n",
    "    usuarios.append({\"nome\": nome, \"data_nascimento\":data_nascimento, \"cpf\": cpf, \"endereco\": endereco})\n",
    "    print(\"Usuario Criado com sucesso\")"
   ]
  },
  {
   "cell_type": "code",
   "execution_count": 100,
   "metadata": {},
   "outputs": [],
   "source": [
    "def criar_conta(agencia, numero_conta, usuarios):\n",
    "    cpf = input(\"Informe o CPF do usuario: \")\n",
    "    usuario = filtrar_usuario(cpf, usuarios)\n",
    "\n",
    "    if usuario:\n",
    "        print(\"\\n Conta criada com sucesso!\")\n",
    "        return {\"agencia\": agencia, \"numero_conta\": numero_conta, \"usuario\":usuario}\n",
    "    print(\"\\n Usuário não encontrado, retornando ao menu principal\")"
   ]
  },
  {
   "cell_type": "code",
   "execution_count": 101,
   "metadata": {},
   "outputs": [],
   "source": [
    "def listar_contas(contas):\n",
    "    for conta in contas:\n",
    "        linha = f\"\"\"\\\n",
    "            Agencia:\\t{conta['agencia']}\n",
    "            C/C: \\t\\t{conta['numero_conta']}\n",
    "            Titular:\\t {conta['usuario']['nome']}\n",
    "        \"\"\"\n",
    "        print(\"=\"*100)\n",
    "        print(linha)"
   ]
  },
  {
   "cell_type": "code",
   "execution_count": 102,
   "metadata": {},
   "outputs": [
    {
     "name": "stdout",
     "output_type": "stream",
     "text": [
      "Depósito de R$ 200.00 realizado com sucesso.\n",
      "\n",
      "================ EXTRATO ================\n",
      "Depósito: R$ 200.00\n",
      "\n",
      "\n",
      "Saldo: R$ 200.00\n",
      "==========================================\n",
      "Saque de R$ 20.00 realizado com sucesso.\n",
      "\n",
      "================ EXTRATO ================\n",
      "Depósito: R$ 200.00\n",
      "Saque: R$ 20.00\n",
      "\n",
      "\n",
      "Saldo: R$ 180.00\n",
      "==========================================\n",
      "Usuario Criado com sucesso\n",
      "\n",
      " Conta criada com sucesso!\n",
      "====================================================================================================\n",
      "            Agencia:\t0001\n",
      "            C/C: \t\t1\n",
      "            Titular:\t abc\n",
      "        \n",
      "\n",
      " Já existe usuário com esse CPF!\n",
      "====================================================================================================\n",
      "            Agencia:\t0001\n",
      "            C/C: \t\t1\n",
      "            Titular:\t abc\n",
      "        \n"
     ]
    }
   ],
   "source": [
    "def main():\n",
    "    saldo = 0\n",
    "    limite = 500\n",
    "    extrato = \"\"\n",
    "    numero_saques = 0\n",
    "    LIMITE_SAQUES = 3\n",
    "    usuarios = []\n",
    "    contas = []\n",
    "    contador_contas = 1\n",
    "    AGENCIA = \"0001\"\n",
    "\n",
    "\n",
    "    while True:\n",
    "        opcao = exibir_menu()\n",
    "\n",
    "        if opcao == \"1\":\n",
    "            saldo, extrato = depositar(saldo, extrato)\n",
    "        elif opcao == \"2\":\n",
    "            saldo, extrato, numero_saques = sacar(saldo, extrato, numero_saques, LIMITE_SAQUES, limite)\n",
    "        elif opcao == \"3\":\n",
    "            exibir_extrato(saldo, extrato)\n",
    "        elif opcao == \"4\":\n",
    "            criar_usuario(usuarios)\n",
    "        elif opcao == \"5\":\n",
    "            conta = criar_conta(AGENCIA, contador_contas, usuarios)\n",
    "            if conta:\n",
    "                contas.append(conta)\n",
    "                contador_contas += 1\n",
    "        elif opcao == \"6\":\n",
    "            listar_contas(contas)\n",
    "        elif opcao == \"0\":\n",
    "            break\n",
    "        else:\n",
    "            print(\"Operação inválida, por favor selecione novamente a operação desejada.\")\n",
    "\n",
    "if __name__ == \"__main__\":\n",
    "    main()"
   ]
  }
 ],
 "metadata": {
  "kernelspec": {
   "display_name": "Python 3",
   "language": "python",
   "name": "python3"
  },
  "language_info": {
   "codemirror_mode": {
    "name": "ipython",
    "version": 3
   },
   "file_extension": ".py",
   "mimetype": "text/x-python",
   "name": "python",
   "nbconvert_exporter": "python",
   "pygments_lexer": "ipython3",
   "version": "3.12.3"
  }
 },
 "nbformat": 4,
 "nbformat_minor": 2
}
